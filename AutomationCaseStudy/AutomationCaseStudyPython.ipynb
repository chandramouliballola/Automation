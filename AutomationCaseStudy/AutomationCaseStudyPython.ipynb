{
 "cells": [
  {
   "cell_type": "code",
   "execution_count": null,
   "metadata": {},
   "outputs": [],
   "source": [
    "import pandas as pd\n",
    "#import numpy as np\n",
    "#print('Read file starts')\n",
    "#READING EXCEL FILE STARTS...!\n",
    "import pandas as pd\n",
    "#import numpy as np\n",
    "#print('Read file starts')\n",
    "#READING EXCEL FILE STARTS...!\n",
    "excel_workbook_name = 'ExcelDataset.xlsx'  #Name of the excel file should be same as the Excel file createed in UI Path\n",
    "excel_sheet_name = 'Dataset' #Name of the sheet should be same as that given in UI Path\n",
    "#Output files for futher processing\n",
    "clean_data_file_Name = 'Clean_Data.xlsx'\n",
    "sla_breached_file_name = 'SLA_Breached_File.xlsx'\n",
    "sla_met_file_name = 'SLA_Met.xlsx'\n",
    "top_five_sla_miss = 'top_five_SLA_miss.xlsx'\n",
    "top_five_sla_met = 'top_five_SLA_met.xlsx'"
   ]
  },
  {
   "cell_type": "code",
   "execution_count": null,
   "metadata": {},
   "outputs": [],
   "source": [
    "dataset.head(5)"
   ]
  },
  {
   "cell_type": "code",
   "execution_count": null,
   "metadata": {},
   "outputs": [],
   "source": [
    "#File contains all the updates made to the Incidents such as Assignment, \n",
    "#updating status as pending, updating as resolved and finally closed.\n",
    "#Each of these are given as a seperate row in the data sheet.\n",
    "#We should filter only the resovled and closed data for the case study\n",
    "#Processing for Resovled incidents                        \n",
    "#print('Processing for Resolved INCs starts')\n",
    "resolved = dataset.loc[dataset['incident_state'] == 'Resolved']\n",
    "#resolved.head(10)\n",
    "resolved.reset_index(drop = True, inplace = True)\n",
    "#resolved.head(10)\n",
    "#len(resolved)\n",
    "resolved['dup_check'] = resolved.duplicated(subset = 'number', keep = 'last')\n",
    "#resolved.head(5)\n",
    "index = resolved[resolved['dup_check'] == True].index\n",
    "#index\n",
    "resolved.drop(index,inplace = True)\n",
    "#len(resolved)\n",
    "#resolved.columns\n",
    "resolved = resolved.drop(resolved.loc[:,'contact_type':'resolved_by'].columns, axis = 1)\n",
    "#resolved\n",
    "resolved = resolved.drop(resolved.loc[:,'reassignment_count':'sys_created_at'].columns, axis = 1)\n",
    "resolved = resolved.drop(['sys_updated_by','closed_at'], axis = 1)\n",
    "#resolved\n",
    "resolved = resolved.drop(['dup_check'], axis = 1)\n",
    "#resolved.to_excel('Resolved.xlsx', index=0)\n",
    "resolved = resolved.drop(['active'], axis = 1)\n",
    "#resolved.to_excel('Resolved.xlsx', index=0)\n",
    "#mouli.loc[mouli['resolved_at' == '?']]\n",
    "resolved.loc[resolved['resolved_at'] == '?', ['resolved_at']] = resolved['sys_updated_at']\n",
    "#resolved.groupby('resolved_at').count()\n",
    "#len(resolved)\n",
    "#resolved.columns\n",
    "resolved['resolved_at_dt'] = pd.to_datetime(resolved['resolved_at'])\n",
    "resolved = resolved.drop(['sys_updated_at'], axis = 1)\n",
    "#print('Processing for resolved INCs ends.')\n",
    "#print('Generating Resolved.xlsx file')\n",
    "#resolved.to_excel('Resolved.xlsx', index=0)"
   ]
  },
  {
   "cell_type": "code",
   "execution_count": null,
   "metadata": {},
   "outputs": [],
   "source": [
    "resolved"
   ]
  },
  {
   "cell_type": "code",
   "execution_count": 47,
   "metadata": {},
   "outputs": [
    {
     "name": "stderr",
     "output_type": "stream",
     "text": [
      "C:\\ProgramData\\Anaconda3\\lib\\site-packages\\ipykernel_launcher.py:4: SettingWithCopyWarning: \n",
      "A value is trying to be set on a copy of a slice from a DataFrame.\n",
      "Try using .loc[row_indexer,col_indexer] = value instead\n",
      "\n",
      "See the caveats in the documentation: http://pandas.pydata.org/pandas-docs/stable/indexing.html#indexing-view-versus-copy\n",
      "  after removing the cwd from sys.path.\n",
      "C:\\ProgramData\\Anaconda3\\lib\\site-packages\\ipykernel_launcher.py:6: SettingWithCopyWarning: \n",
      "A value is trying to be set on a copy of a slice from a DataFrame\n",
      "\n",
      "See the caveats in the documentation: http://pandas.pydata.org/pandas-docs/stable/indexing.html#indexing-view-versus-copy\n",
      "  \n"
     ]
    }
   ],
   "source": [
    "#print('Start of Closed INC Process')\n",
    "closed = dataset.loc[dataset['incident_state'] == 'Closed']\n",
    "closed.reset_index(drop = True,inplace = True)\n",
    "closed['dup_check'] = closed.duplicated(subset = ['number'], keep = 'last')\n",
    "index = closed[closed['dup_check'] == True].index\n",
    "closed.drop(index,inplace = True)\n",
    "closed.reset_index(drop = True,inplace = True)\n",
    "closed.drop('dup_check', axis = 1)\n",
    "closed_fixed = closed.merge(resolved, on = 'number', how = 'left') \n",
    "closed_fixed = closed_fixed.drop(['resolved_at_x', 'dup_check', 'incident_state_y'], axis = 1)\n",
    "closed_fixed.rename(columns={'incident_state_x':'incident_state','resolved_at_y':'resolved_at'}, inplace=True)\n",
    "closed_fixed.loc[closed_fixed['sys_created_at']== '?', ['sys_created_at']] = closed_fixed['opened_at']\n",
    "closed_fixed['opened_at_dt'] = pd.to_datetime(closed_fixed['opened_at'])\n",
    "closed_fixed['sys_created_at_dt'] = pd.to_datetime(closed_fixed['sys_created_at'])\n",
    "closed_fixed['sys_updated_at_dt'] = pd.to_datetime(closed_fixed['sys_updated_at']) \n",
    "closed_fixed['closed_at_dt'] = pd.to_datetime(closed_fixed['closed_at'])\n",
    "closed_fixed.loc[closed_fixed['resolved_at_dt'].isnull(), ['resolved_at_dt']] = closed_fixed['closed_at_dt']\n",
    "closed_fixed['resolution_time'] = (closed_fixed['resolved_at_dt']-closed_fixed['opened_at_dt']).dt.days\n",
    "closed_fixed.loc[closed_fixed['resolution_time'] < 0, ['resolution_time']] = -1*closed_fixed['resolution_time']\n",
    "closed_fixed = closed_fixed.sort_values(by=['opened_at_dt'])\n",
    "closed_fixed.reset_index(drop = True, inplace = True)\n",
    "closed_fixed['SLA_REF'] = ''\n",
    "closed_fixed['BREACH'] = ''\n",
    "closed_fixed.loc[closed_fixed['priority'] == '3 - Moderate', ['SLA_REF']] = 20\n",
    "closed_fixed.loc[closed_fixed['priority'] == '2 - High', ['SLA_REF']] = 10\n",
    "closed_fixed.loc[closed_fixed['priority'] == '4 - Low', ['SLA_REF']] = 35\n",
    "closed_fixed.loc[closed_fixed['priority'] == '1 - Critical', ['SLA_REF']] = 5\n",
    "closed_fixed.loc[closed_fixed['SLA_REF'] >= closed_fixed['resolution_time'], ['BREACH']] = 'NO'\n",
    "closed_fixed.loc[closed_fixed['SLA_REF'] < closed_fixed['resolution_time'], ['BREACH']] = 'YES'\n",
    "closed_fixed['Assignee_Email'] = closed_fixed['resolved_by']+'@email.com'\n",
    "#closed_fixed\n",
    "#print('Closed INCs Process Ends')\n",
    "#print('Generating Clean_Data File')\n",
    "closed_fixed.to_excel('Clean_Data.xlsx', index = False)\n",
    "#closed_fixed.to_csv('Clean_Data.csv', index = False)\n",
    "#print('Generating Clean_Data File Ends')"
   ]
  },
  {
   "cell_type": "code",
   "execution_count": 48,
   "metadata": {},
   "outputs": [],
   "source": [
    "closed_fixed.loc[closed_fixed['BREACH'] == 'YES', ['number','resolved_by','priority', 'BREACH']].to_excel(sla_breached_file_name, index = 0)"
   ]
  },
  {
   "cell_type": "code",
   "execution_count": 49,
   "metadata": {},
   "outputs": [],
   "source": [
    "closed_fixed.loc[closed_fixed['BREACH'] == 'NO', ['number','resolved_by','priority', 'BREACH']].to_excel(sla_met_file_name, index = 0)"
   ]
  },
  {
   "cell_type": "code",
   "execution_count": 53,
   "metadata": {},
   "outputs": [
    {
     "data": {
      "text/plain": [
       "Index(['number', 'incident_state', 'active', 'reassignment_count',\n",
       "       'reopen_count', 'sys_mod_count', 'made_sla', 'caller_id', 'opened_by',\n",
       "       'opened_at', 'sys_created_by', 'sys_created_at', 'sys_updated_by',\n",
       "       'sys_updated_at', 'contact_type', 'location', 'category', 'subcategory',\n",
       "       'u_symptom', 'cmdb_ci', 'impact', 'urgency', 'priority',\n",
       "       'assignment_group', 'assigned_to', 'knowledge',\n",
       "       'u_priority_confirmation', 'notify', 'problem_id', 'rfc', 'vendor',\n",
       "       'caused_by', 'closed_code', 'resolved_by', 'closed_at', 'resolved_at',\n",
       "       'resolved_at_dt', 'opened_at_dt', 'sys_created_at_dt',\n",
       "       'sys_updated_at_dt', 'closed_at_dt', 'resolution_time', 'SLA_REF',\n",
       "       'BREACH', 'Assignee_Email'],\n",
       "      dtype='object')"
      ]
     },
     "execution_count": 53,
     "metadata": {},
     "output_type": "execute_result"
    }
   ],
   "source": [
    "closed_fixed.columns"
   ]
  },
  {
   "cell_type": "code",
   "execution_count": 55,
   "metadata": {},
   "outputs": [],
   "source": [
    "closed_fixed.loc[closed_fixed['BREACH'] == 'YES', ['number','resolved_by','priority', 'BREACH','resolution_time', 'resolved_by', 'Assignee_Email']].sort_values(by=['resolution_time'], ascending = False).head(5).to_excel(top_five_sla_miss, index = 0)"
   ]
  },
  {
   "cell_type": "code",
   "execution_count": 56,
   "metadata": {},
   "outputs": [],
   "source": [
    "closed_fixed.loc[closed_fixed['BREACH'] == 'NO', ['number','resolved_by','priority', 'BREACH', 'resolution_time','resolved_by', 'Assignee_Email']].sort_values(by=['resolution_time'], ascending = False).head(5).to_excel(top_five_sla_met, index = 0)"
   ]
  }
 ],
 "metadata": {
  "kernelspec": {
   "display_name": "Python 3",
   "language": "python",
   "name": "python3"
  },
  "language_info": {
   "codemirror_mode": {
    "name": "ipython",
    "version": 3
   },
   "file_extension": ".py",
   "mimetype": "text/x-python",
   "name": "python",
   "nbconvert_exporter": "python",
   "pygments_lexer": "ipython3",
   "version": "3.6.4"
  }
 },
 "nbformat": 4,
 "nbformat_minor": 2
}
